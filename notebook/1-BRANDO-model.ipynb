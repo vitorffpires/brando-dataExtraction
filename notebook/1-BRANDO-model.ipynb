{
 "cells": [
  {
   "cell_type": "code",
   "execution_count": 1,
   "metadata": {},
   "outputs": [],
   "source": [
    "import torch\n",
    "import os\n",
    "import json\n",
    "import pandas as pd\n",
    "import pandas as pd\n",
    "from pathlib import Path\n",
    "from huggingface_hub import snapshot_download\n",
    "from huggingface_hub import notebook_login\n",
    "from transformers import AutoModelForCausalLM, AutoTokenizer, pipeline"
   ]
  },
  {
   "cell_type": "code",
   "execution_count": 2,
   "metadata": {},
   "outputs": [],
   "source": [
    "HUGGING_FACE_API_KEY = os.environ.get(\"HUGGING_FACE_API_KEY_BRANDO\")\n",
    "#notebook_login()"
   ]
  },
  {
   "cell_type": "code",
   "execution_count": 3,
   "metadata": {},
   "outputs": [],
   "source": [
    "from huggingface_hub import snapshot_download\n",
    "from pathlib import Path\n",
    "# Define the path to save the model\n",
    "mistral_models_path = Path.home().joinpath('mistral_models', '7B-Instruct-v0.3')\n",
    "mistral_models_path.mkdir(parents=True, exist_ok=True)\n",
    "# Download the model\n",
    "model_name = \"mistralai/Mistral-7B-Instruct-v0.3\"\n",
    "#snapshot_download(repo_id=model_name,\n",
    "#                  allow_patterns=[\"params.json\", \"consolidated.safetensors\", \"tokenizer.model.v3\"],\n",
    "#                  local_dir=mistral_models_path)"
   ]
  },
  {
   "cell_type": "code",
   "execution_count": 4,
   "metadata": {},
   "outputs": [],
   "source": [
    "df_pacientes_reg = pd.read_csv(r'..\\data\\tratados\\t_pacientes_reg.csv', sep=';', encoding='utf-8')\n",
    "df_resultados = pd.DataFrame({\n",
    "    'npac': df_pacientes_reg['npac'],\n",
    "    'resultado': [None] * len(df_pacientes_reg)  # Adiciona uma nova coluna vazia\n",
    "})\n",
    "\n",
    "# Carrega os dados\n",
    "df_cond_add = pd.read_csv(r'..\\data\\entrada_modelo\\df_cond_add.csv', sep=';', encoding='utf-8') # Coluna coment_cond_add\n",
    "df_cond_familia = pd.read_csv(r'..\\data\\entrada_modelo\\df_cond_familia.csv', sep=';', encoding='utf-8') # Coluna coment_cond_familia\n",
    "df_cons_reg = pd.read_csv(r'..\\data\\entrada_modelo\\df_cons_reg.csv', sep=';', encoding='utf-8') # Coluna coment_cons_reg\n",
    "df_diag_status = pd.read_csv(r'..\\data\\entrada_modelo\\df_diag_status.csv', sep=';', encoding='utf-8') # Coluna coment_diag_status\n",
    "df_gravidez = pd.read_csv(r'..\\data\\entrada_modelo\\df_gravidez.csv', sep=';', encoding='utf-8') # Coluna coment_gravidez\n",
    "df_lab_aac = pd.read_csv(r'..\\data\\entrada_modelo\\df_lab_aac.csv', sep=';', encoding='utf-8') # Coluna coment_lab_aac\n",
    "df_lab_basic = pd.read_csv(r'..\\data\\entrada_modelo\\df_lab_basic.csv', sep=';', encoding='utf-8') # Coluna coment_lab_basic\n",
    "df_lab_hemat = pd.read_csv(r'..\\data\\entrada_modelo\\df_lab_hemat.csv', sep=';', encoding='utf-8') # Coluna coment_lab_hemat\n",
    "df_lab_quimica = pd.read_csv(r'..\\data\\entrada_modelo\\df_lab_quimica.csv', sep=';', encoding='utf-8') # Coluna coment_lab_quimica\n",
    "df_lab_sorol = pd.read_csv(r'..\\data\\entrada_modelo\\df_lab_sorol.csv', sep=';', encoding='utf-8') # Coluna coment_lab_sorol\n",
    "df_liquor = pd.read_csv(r'..\\data\\entrada_modelo\\df_liquor.csv', sep=';', encoding='utf-8') # Coluna coment_liquor\n",
    "df_mri = pd.read_csv(r'..\\data\\entrada_modelo\\df_mri.csv', sep=';', encoding='utf-8') # Coluna coment_mri\n",
    "df_pot_evoc = pd.read_csv(r'..\\data\\entrada_modelo\\df_pot_evoc.csv', sep=';', encoding='utf-8') # Coluna coment_pot_evoc\n",
    "df_surtos_reg = pd.read_csv(r'..\\data\\entrada_modelo\\df_surtos_reg.csv', sep=';', encoding='utf-8') # Coluna coment_surtos_reg\n",
    "df_trat_dmd = pd.read_csv(r'..\\data\\entrada_modelo\\df_trat_dmd.csv', sep=';', encoding='utf-8') # Coluna coment_trat_dmd\n",
    "df_trat_odr = pd.read_csv(r'..\\data\\entrada_modelo\\df_trat_odr.csv', sep=';', encoding='utf-8') # Coluna coment_trat_odr\n",
    "df_trat_out = pd.read_csv(r'..\\data\\entrada_modelo\\df_trat_out.csv', sep=';', encoding='utf-8') # Coluna coment_trat_out\n",
    "df_vacinas_reg = pd.read_csv(r'..\\data\\entrada_modelo\\df_vacinas_reg.csv', sep=';', encoding='utf-8') # Coluna coment_vacinas_reg\n",
    "\n",
    "df_list=[df_pacientes_reg, df_cond_add, df_cond_familia, df_cons_reg, df_diag_status, df_gravidez, df_lab_aac, df_lab_basic, df_lab_hemat, df_lab_quimica, df_lab_sorol, df_liquor, df_mri, df_pot_evoc, df_surtos_reg, df_trat_dmd, df_trat_odr, df_trat_out, df_vacinas_reg]\n",
    "\n",
    "# Carrega o json\n",
    "with open(r'..\\data\\entrada_modelo\\form.json', 'r') as f:\n",
    "    dict_tabela = json.load(f)"
   ]
  },
  {
   "cell_type": "code",
   "execution_count": 5,
   "metadata": {},
   "outputs": [
    {
     "name": "stdout",
     "output_type": "stream",
     "text": [
      "['extraia e classifique as informações contidas no texto', \"Extraia a informação para o campo 'titulo': Registro de Pacientes\\nTexto: []\", \"Extraia a informação para o campo 'df_correspondente': pais_reside\\nTexto: []\", \"Extraia a informação para o campo 'npac': (contole interno)\\nTexto: []\", \"Extraia a informação para o campo 'center_abrev': Centro de origem do paciente (interno)\\nTexto: []\", \"Extraia a informação para o campo 'dt_pacientes_reg': Data de inclusão no BRANDO (*) [date]\\nTexto: []\", \"Extraia a informação para o campo 'nome': Nome ou iniciais (*) [input text]\\nTexto: []\", \"Extraia a informação para o campo 'n_reg_centro': Número interno do paciente no serviço/centro [input text/number]\\nTexto: []\", \"Extraia a informação para o campo 'prontuario': Prontuário do paciente no serviço/centro [input text/number]\\nTexto: []\", \"Extraia a informação para o campo 'convenio': Convênio [options]\\nTexto: []\", \"Extraia a informação para o campo 'convenio_out_descr': Descrição [input text/number]\\nTexto: []\", \"Extraia a informação para o campo 'cns': CNS (cadastro nacional de saúde) [input text/number]\\nTexto: []\", \"Extraia a informação para o campo 'cpf': CPF (cadastro de pessoas física) [input text/number]\\nTexto: []\", \"Extraia a informação para o campo 'dt_nasc': Data de nascimento [date]\\nTexto: []\", \"Extraia a informação para o campo 'sexo_femi': Sexo [options]\\nTexto: []\", \"Extraia a informação para o campo 'etnia': Etnia [options]\\nTexto: []\", \"Extraia a informação para o campo 'declara_etnia': Quem declarou etnia [options]\\nTexto: []\", \"Extraia a informação para o campo 'estado_civil_reg': Estado civil [options]\\nTexto: []\", \"Extraia a informação para o campo 'escolaridade': Escolaridade [options]\\nTexto: []\", \"Extraia a informação para o campo 'ativ_labor_reg': Paciente trabalha/estuda [options]\\nTexto: []\", \"Extraia a informação para o campo 'mao_dominante': Mão dominante [options]\\nTexto: []\", \"Extraia a informação para o campo 'cidade_nasc': Cidade de nascimento [input text/number]\\nTexto: []\", \"Extraia a informação para o campo 'uf_nasc': Estado de nascimento [options]\\nTexto: []\", \"Extraia a informação para o campo 'pais_nasc': País de nascimento  [input text/number] (somente preencher se nasceu no exterior)\\nTexto: []\", \"Extraia a informação para o campo 'cidade_viveu_ate_15a': Cidade onde viveu a maior parte do tempo antes de completar 15 anos [input text/number]\\nTexto: []\", \"Extraia a informação para o campo 'uf_viveu_ate_15a': Estado onde viveu a maior parte do tempo antes de completar 15 anos [options]\\nTexto: []\", \"Extraia a informação para o campo 'pais_viveu_ate_15a': País onde viveu a maior parte do tempo antes de completar 15 anos [input text/number]\\nTexto: []\", \"Extraia a informação para o campo 'cidade_reside': Cidade onde reside [input text/number]\\nTexto: []\", \"Extraia a informação para o campo 'uf_reside': Estado onde reside [options]\\nTexto: []\", \"Extraia a informação para o campo 'pais_reside': País de residência  [input text/number] (somente preencher se reside no exterior)\\nTexto: []\", \"Extraia a informação para o campo 'fone1': Fone [input text/number]\\nTexto: []\", \"Extraia a informação para o campo 'contato1': Contato (nome e relação se aplicável) [input text/number]\\nTexto: []\", \"Extraia a informação para o campo 'fone2': Fone [input text/number]\\nTexto: []\", \"Extraia a informação para o campo 'contato2': Contato (nome e relação se aplicável) [input text/number]\\nTexto: []\", \"Extraia a informação para o campo 'fone3': Fone [input text/number]\\nTexto: []\", \"Extraia a informação para o campo 'contato3': Contato (nome e relação se aplicável) [input text/number]\\nTexto: []\", \"Extraia a informação para o campo 'fone4': Fone [input text/number]\\nTexto: []\", \"Extraia a informação para o campo 'contato4': Contato (nome e relação se aplicável) [input text/number]\\nTexto: []\", \"Extraia a informação para o campo 'email_pac1': Email para contato 1 [input text/number]\\nTexto: []\", \"Extraia a informação para o campo 'email_pac2': Email para contato 2 [input text/number]\\nTexto: []\", \"Extraia a informação para o campo 'init_user': (interno) Usuário que iniciou o registro do paciente\\nTexto: []\", \"Extraia a informação para o campo 'dt_init_user': (interno) Data da inicialização do registro [date]\\nTexto: []\"]\n",
      "['extraia e classifique as informações contidas no texto', \"Extraia a informação para o campo 'titulo': Diagnóstico, Evolução e Situação do Paciente\\nTexto: []\", \"Extraia a informação para o campo 'df_correspondente': coment_diag_status_treated\\nTexto: []\", \"Extraia a informação para o campo 'npac': (interno)\\nTexto: []\", \"Extraia a informação para o campo 'dt_ris': Data de ocorrência de RIS/SRI (Síndrome Radiológica Isolada) [date]\\nTexto: []\", \"Extraia a informação para o campo 'dt_ris_desconhecida': Data desconhecida [check] 1. sim\\nTexto: []\", \"Extraia a informação para o campo 'dt_ini_prog': Data de início de progressão [date]\\nTexto: []\", \"Extraia a informação para o campo 'dt_ini_prog_desconhecida': Data desconhecida [check] 1. sim\\nTexto: []\", \"Extraia a informação para o campo 'class_ms': Classe ou fenótipo da Esclerose [options]\\nTexto: []\", \"Extraia a informação para o campo 'dt_diag_msrr': Data de diagnóstico do fenótipo RR [date]\\nTexto: []\", \"Extraia a informação para o campo 'dt_diag_msrr_desconhecida': Data desconhecida [check] 1. sim\\nTexto: []\", \"Extraia a informação para o campo 'dt_diag_mssp': Data de diagnóstico do fenótipo SP [date]\\nTexto: []\", \"Extraia a informação para o campo 'dt_diag_mssp_desconhecida': Data desconhecida [check] 1. sim\\nTexto: []\", \"Extraia a informação para o campo 'dt_diag_mspp': Data de diagnóstico do fenótipo PP [date]\\nTexto: []\", \"Extraia a informação para o campo 'dt_diag_mspp_desconhecida': Data desconhecida [check] 1. sim\\nTexto: []\", \"Extraia a informação para o campo 'obito': Óbito [options]\\nTexto: []\", \"Extraia a informação para o campo 'dt_obito': Data de óbito [date]\\nTexto: []\", \"Extraia a informação para o campo 'dt_obito_desconhecida': Data desconhecida [check] 1. sim\\nTexto: []\", \"Extraia a informação para o campo 'causa_princ_obito': Causa principal do óbito [options]\\nTexto: []\", \"Extraia a informação para o campo 'descr_outra_causa_obito': Descrição [input text/number]\\nTexto: []\", \"Extraia a informação para o campo 'coment_diag_status': Comentário [input text/number]\\nTexto: []\"]\n",
      "[]\n",
      "[]\n",
      "['extraia e classifique as informações contidas no texto', \"Extraia a informação para o campo 'titulo': Consulta e EDSS\\nTexto: []\", \"Extraia a informação para o campo 'df_correspondente': coment_cons_reg_treated\\nTexto: []\", \"Extraia a informação para o campo 'id_cons_reg': (interno)\\nTexto: []\", \"Extraia a informação para o campo 'npac': (interno)\\nTexto: []\", \"Extraia a informação para o campo 'dt_cons_reg': Data da visita/consulta(*) [date]\\nTexto: []\", \"Extraia a informação para o campo 'tabagismo': Tabagismo [options]\\nTexto: []\", \"Extraia a informação para o campo 'etilismo': Uso de álcool [options]\\nTexto: []\", \"Extraia a informação para o campo 'uso_cannabis': Uso de Cannabis [options]\\nTexto: []\", \"Extraia a informação para o campo 'outras_drogas': Uso de outras drogas [options]\\nTexto: []\", \"Extraia a informação para o campo 'uso_drogas_descr': Descrição [input text/number]\\nTexto: []\", \"Extraia a informação para o campo 'estado_civil_cons': Estado civil [options]\\nTexto: []\", \"Extraia a informação para o campo 'ativ_labor_cons': Paciente trabalha/estuda [options]\\nTexto: []\", \"Extraia a informação para o campo 'efeito_adverso_med': Efeito adverso à medicação [options]\\nTexto: []\", \"Extraia a informação para o campo 'relata_surto': Ocorrência de surto [options]\\nTexto: []\", \"Extraia a informação para o campo 'progressao_clinica': Houve progressão clínica [options]\\nTexto: []\", \"Extraia a informação para o campo 'piora_radiologica': Houve piora radiológica [options]\\nTexto: []\", \"Extraia a informação para o campo 'melhora_clinica': Houve melhora clínica [options]\\nTexto: []\", \"Extraia a informação para o campo 'edss_visual': Funções visuais [options]\\nTexto: []\", \"Extraia a informação para o campo 'edss_tronco': Funções de tronco [options]\\nTexto: []\", \"Extraia a informação para o campo 'edss_piramidal': Funções piramidais [options]\\nTexto: []\", \"Extraia a informação para o campo 'edss_cerebelar': Funções cerebelares [options]\\nTexto: []\", \"Extraia a informação para o campo 'edss_sensorio': Funções de sensibilidade [options]\\nTexto: []\", \"Extraia a informação para o campo 'edss_int_bexi': Funções de intestino e bexiga [options]\\nTexto: []\", \"Extraia a informação para o campo 'edss_mental': Funções cerebrais/mentais [options]\\nTexto: []\", \"Extraia a informação para o campo 'edss_deambulacao': Deambulação [options]\\nTexto: []\", \"Extraia a informação para o campo 'edss_fs_score': (interno)\\nTexto: []\", \"Extraia a informação para o campo 'edss_ambulat_score': (interno)\\nTexto: []\", \"Extraia a informação para o campo 'edss_total_calc': Escore EDSS total, calculado [readonly]\\nTexto: []\", \"Extraia a informação para o campo 'edss_total_obs': Escore EDSS total, fornecido [input text/number]\\nTexto: []\", \"Extraia a informação para o campo 'nht_mao_domin1': Nine hole peg test (mão dominante – tentativa 1) [input text/number]\\nTexto: []\", \"Extraia a informação para o campo 'nht_mao_domin1_irt': incapaz de realizar teste [check]\\nTexto: []\", \"Extraia a informação para o campo 'nht_mao_n_domin1': Nine hole peg test (mão não dominante – tentativa 1) [input text/number]\\nTexto: []\", \"Extraia a informação para o campo 'nht_mao_n_domin1_irt': incapaz de realizar teste [check]\\nTexto: []\", \"Extraia a informação para o campo 'nht_mao_domin2': Nine hole peg test (mão dominante – tentativa 2) [input text/number]\\nTexto: []\", \"Extraia a informação para o campo 'nht_mao_domin2_irt': incapaz de realizar teste [check]\\nTexto: []\", \"Extraia a informação para o campo 'nht_mao_n_domin2': Nine hole peg test (mão não dominante – tentativa 2) [input text/number]\\nTexto: []\", \"Extraia a informação para o campo 'nht_mao_n_domin2_irt': incapaz de realizar teste [check]\\nTexto: []\", \"Extraia a informação para o campo 'pasat_test': Paced Auditory Serial Addition Test (PASAT) [input text/number]\\nTexto: []\", \"Extraia a informação para o campo 'pasat_test_irt': incapaz de realizar teste [check]\\nTexto: []\", \"Extraia a informação para o campo 'sd_test': Symbol Digit Modalities Test (SDMT) [input text/number]\\nTexto: []\", \"Extraia a informação para o campo 'sd_test_irt': incapaz de realizar teste [check]\\nTexto: []\", \"Extraia a informação para o campo 't25_fw_1': 25-foot walk test (tentativa 1) [input text/number]\\nTexto: []\", \"Extraia a informação para o campo 't25_fw_1_irt': incapaz de realizar teste [check]\\nTexto: []\", \"Extraia a informação para o campo 't25_fw_2': 25-foot walk test (tentativa 2) [input text/number]\\nTexto: []\", \"Extraia a informação para o campo 't25_fw_2_irt': incapaz de realizar teste [check]\\nTexto: []\", \"Extraia a informação para o campo 'cvlt2': California Verbal Learning Test-Second Edition (CVLT-II) [input text/number]\\nTexto: []\", \"Extraia a informação para o campo 'cvlt2_irt': incapaz de realizar teste [check]\\nTexto: []\", \"Extraia a informação para o campo 'bvmtr': Brief Visuospatial Memory Test-Revised (BVMT-R) [input text/number]\\nTexto: []\", \"Extraia a informação para o campo 'bvmtr_irt': incapaz de realizar teste [check]\\nTexto: []\", \"Extraia a informação para o campo 'mfis': Modified Fatigue Impact Scale (MFIS) [input text/number]\\nTexto: []\", \"Extraia a informação para o campo 'mfis_irt': incapaz de realizar teste [check]\\nTexto: []\", \"Extraia a informação para o campo 'fss': Fatigue Severity Scale (FSS) [input text/number]\\nTexto: []\", \"Extraia a informação para o campo 'fss_irt': incapaz de realizar teste [check]\\nTexto: []\", \"Extraia a informação para o campo 'bai': Beck Anxiety Inventory (BAI) [input text/number]\\nTexto: []\", \"Extraia a informação para o campo 'bai_irt': incapaz de realizar teste [check]\\nTexto: []\", \"Extraia a informação para o campo 'bdi': Beck Depression Inventory (BDI) [input text/number]\\nTexto: []\", \"Extraia a informação para o campo 'bdi_irt': incapaz de realizar teste [check]\\nTexto: []\", \"Extraia a informação para o campo 'hads_a': Hospital Anxiety and Depression Scale – Anxiety subscale (HADS-A) [input text/number]\\nTexto: []\", \"Extraia a informação para o campo 'hads_a_irt': incapaz de realizar teste [check]\\nTexto: []\", \"Extraia a informação para o campo 'hads_d': Hospital Anxiety and Depression Scale – Depression subscale (HADS-D) [input text/number]\\nTexto: []\", \"Extraia a informação para o campo 'hads_d_irt': incapaz de realizar teste [check]\\nTexto: []\", \"Extraia a informação para o campo 'solicita_pulsoterapia': Solicitação de pulsoterapia [options]\\nTexto: []\", \"Extraia a informação para o campo 'cond_dmd': Droga Modificadora da Doença (DMD) [options]\\nTexto: []\", \"Extraia a informação para o campo 'cond_trat_sint': Tratamento sintomático [options]\\nTexto: []\", \"Extraia a informação para o campo 'cond_trat_out': Outro tratamento [options]\\nTexto: []\", \"Extraia a informação para o campo 'se_rm_encefalo': Solicitou ressonância magnética (RM) de encéfalo [options]\\nTexto: []\", \"Extraia a informação para o campo 'se_rm_col_cerv': Solicitou ressonância magnética (RM) de coluna cervical [options]\\nTexto: []\", \"Extraia a informação para o campo 'se_rm_col_tor': Solicitou ressonância magnética (RM) de coluna torácica [options]\\nTexto: []\", \"Extraia a informação para o campo 'se_lab_rotina': Solicitou laboratório de rotina [options]\\nTexto: []\", \"Extraia a informação para o campo 'se_ind_jcv': Solicitou índice JC virus [options]\\nTexto: []\", \"Extraia a informação para o campo 'enc_neuropsic': Encaminhamento para avaliação neuropsicológica [options]\\nTexto: []\", \"Extraia a informação para o campo 'enc_fisio_mot': Encaminhamento para fisioterapia motora [options]\\nTexto: []\", \"Extraia a informação para o campo 'enc_reab_cog': Encaminhamento para reabilitação cognitiva [options]\\nTexto: []\", \"Extraia a informação para o campo 'enc_med1': Encaminhamento para médico 1 [options]\\nTexto: []\", \"Extraia a informação para o campo 'descr_outra_enc_med1': Descrição [input text/number]\\nTexto: []\", \"Extraia a informação para o campo 'enc_med2': Encaminhamento para médico 2 [options]\\nTexto: []\", \"Extraia a informação para o campo 'descr_outra_enc_med2': Descrição [input text/number]\\nTexto: []\", \"Extraia a informação para o campo 'enc_med3': Encaminhamento para médico 3 [options]\\nTexto: []\", \"Extraia a informação para o campo 'descr_outra_enc_med3': Descrição [input text/number]\\nTexto: []\", \"Extraia a informação para o campo 'hosp_completar_investigacao': Hospitalizado para completar investigação [options]\\nTexto: []\", \"Extraia a informação para o campo 'hosp_aplicar_dmd': Hospitalizado para aplicação de DMD [options]\\nTexto: []\", \"Extraia a informação para o campo 'ori_parar_fumo': Orientação para parar de fumar [options]\\nTexto: []\", \"Extraia a informação para o campo 'ori_higi_sono': Orientação para higiene do sono [options]\\nTexto: []\", \"Extraia a informação para o campo 'ori_ativ_fisica': Orientação para atividade física [options]\\nTexto: []\", \"Extraia a informação para o campo 'coment_cons_reg': Comentários [input text/number]\\nTexto: []\"]\n",
      "[]\n",
      "[]\n",
      "[]\n",
      "[]\n",
      "[]\n",
      "[]\n",
      "['extraia e classifique as informações contidas no texto', \"Extraia a informação para o campo 'titulo': Ressonância Magnética\\nTexto: []\", \"Extraia a informação para o campo 'df_correspondente': coment_mri_treated\\nTexto: []\", \"Extraia a informação para o campo 'id_mri': (interno)\\nTexto: []\", \"Extraia a informação para o campo 'npac': (interno)\\nTexto: []\", \"Extraia a informação para o campo 'dt_mri': Data da ressonância magnética (*) [date]\\nTexto: []\", \"Extraia a informação para o campo 'les_acc_cra': Lesões acumuladas em encéfalo [options]\\nTexto: []\", \"Extraia a informação para o campo 'les_acc_mdc': Lesões acumuladas em medula cervical [options]\\nTexto: []\", \"Extraia a informação para o campo 'les_acc_mdd': Lesões acumuladas em medula dorsal [options]\\nTexto: []\", \"Extraia a informação para o campo 'les_cra_inalt': Lesões inalteradas em encéfalo [options]\\nTexto: []\", \"Extraia a informação para o campo 'les_mdc_inalt': Lesões inalteradas em medula cervical [options]\\nTexto: []\", \"Extraia a informação para o campo 'les_mdd_inalt': Lesões inalteradas em medula dorsal [options]\\nTexto: []\", \"Extraia a informação para o campo 'les_new_cra': Lesões novas em encéfalo [options]\\nTexto: []\", \"Extraia a informação para o campo 'les_new_mdc': Lesões novas em medula cervical [options]\\nTexto: []\", \"Extraia a informação para o campo 'les_new_mdd': Lesões novas em medula dorsal [options]\\nTexto: []\", \"Extraia a informação para o campo 'les_new_cra_gdp': Lesões novas em encéfalo com realce por gadolínio [options]\\nTexto: []\", \"Extraia a informação para o campo 'les_new_mdc_gdp': Lesões novas em medula cervical com realce por gadolínio [options]\\nTexto: []\", \"Extraia a informação para o campo 'les_new_mdd_gdp': Lesões novas em medula dorsal com realce por gadolínio [options]\\nTexto: []\", \"Extraia a informação para o campo 'les_acc_cra_jct': Lesões acumuladas em encéfalo (junção cortico-subcortical) [options]\\nTexto: []\", \"Extraia a informação para o campo 'les_acc_cra_prv': Lesões acumuladas em encéfalo (periventriculares) [options]\\nTexto: []\", \"Extraia a informação para o campo 'les_acc_cra_fpost': Lesões acumuladas em encéfalo (fossa posterior) [options]\\nTexto: []\", \"Extraia a informação para o campo 'les_acc_cra_nopt': Lesões acumuladas em encéfalo (nervo óptico) [options]\\nTexto: []\", \"Extraia a informação para o campo 'les_cra_jct_inalt': Lesões inalteradas em encéfalo (junção cortico-subcortical) [options]\\nTexto: []\", \"Extraia a informação para o campo 'les_cra_prv_inalt': Lesões inalteradas em encéfalo (periventriculares) [options]\\nTexto: []\", \"Extraia a informação para o campo 'les_cra_fpost_inalt': Lesões inalteradas em encéfalo (fossa posterior) [options]\\nTexto: []\", \"Extraia a informação para o campo 'les_cra_nopt_inalt': Lesões inalteradas em encéfalo (nervo óptico) [options]\\nTexto: []\", \"Extraia a informação para o campo 'les_new_cra_jct': Lesões novas em encéfalo (junção cortico-subcortical) [options]\\nTexto: []\", \"Extraia a informação para o campo 'les_new_cra_prv': Lesões novas em encéfalo (periventriculares) [options]\\nTexto: []\", \"Extraia a informação para o campo 'les_new_cra_fpost': Lesões novas em encéfalo (fossa posterior) [options]\\nTexto: []\", \"Extraia a informação para o campo 'les_new_cra_nopt': Lesões novas em encéfalo (nervo óptico) [options]\\nTexto: []\", \"Extraia a informação para o campo 'les_new_cra_jct_gdp': Lesões novas em encéfalo (junção cortico-subcortical) com realce por gadolínio [options]\\nTexto: []\", \"Extraia a informação para o campo 'les_new_cra_prv_gdp': Lesões novas em encéfalo (periventriculares) com realce por gadolínio [options]\\nTexto: []\", \"Extraia a informação para o campo 'les_new_cra_fpost_gdp': Lesões novas em encéfalo (fossa posterior) com realce por gadolínio [options]\\nTexto: []\", \"Extraia a informação para o campo 'les_new_cra_nopt_gdp': Lesões novas em encéfalo (nervo óptico) com realce por gadolínio [options]\\nTexto: []\", \"Extraia a informação para o campo 'les_tumefat': Lesões tumefactivas [options]\\nTexto: []\", \"Extraia a informação para o campo 'les_tumefat_gdp': Lesões tumefactivas com realce por gadolínio [options]\\nTexto: []\", \"Extraia a informação para o campo 'les_tumefat_descr': Descrição das lesões tumefactivas [input text/number]\\nTexto: []\", \"Extraia a informação para o campo 'les_med_long_ext': Lesões em medula longitudinalmente extensas [options]\\nTexto: []\", \"Extraia a informação para o campo 'les_med_long_ext_gdp': Lesões em medula longitudinalmente extensas com realce por gadolínio [options]\\nTexto: []\", \"Extraia a informação para o campo 'les_med_long_ext_descr': Descrição das lesões em medula longitudinalmente extensas [input text/number]\\nTexto: []\", \"Extraia a informação para o campo 'les_cone_med': Lesões em cone medular [options]\\nTexto: []\", \"Extraia a informação para o campo 'les_cone_med_gdp': Lesões em cone medular com realce por gadolínio [options]\\nTexto: []\", \"Extraia a informação para o campo 'coment_mri': Comentários [input text/number]\\nTexto: []\"]\n",
      "[]\n",
      "['extraia e classifique as informações contidas no texto', \"Extraia a informação para o campo 'titulo': Potenciais Evocados\\nTexto: []\", \"Extraia a informação para o campo 'df_correspondente': coment_pot_evoc_treated\\nTexto: []\", \"Extraia a informação para o campo 'id_pot_evoc': (interno)\\nTexto: []\", \"Extraia a informação para o campo 'npac': (interno)\\nTexto: []\", \"Extraia a informação para o campo 'dt_pot_evoc': Data dos testes de potenciais evocados (*) [date]\\nTexto: []\", \"Extraia a informação para o campo 'pot_evoc_visual': Potenciais evocados visuais [options]\\nTexto: []\", \"Extraia a informação para o campo 'lat_p100_od': Latência P100 olho direito [input text/number]\\nTexto: []\", \"Extraia a informação para o campo 'lat_p100_oe': Latência P100 olho esquerdo [input text/number]\\nTexto: []\", \"Extraia a informação para o campo 'pot_evoc_somato': Potenciais evocados somatossensitivos [options]\\nTexto: []\", \"Extraia a informação para o campo 'pot_evoc_auditivo': Potenciais evocados auditivos [options]\\nTexto: []\", \"Extraia a informação para o campo 'coment_pot_evoc': Comentários [input text/number]\\nTexto: []\"]\n",
      "['extraia e classifique as informações contidas no texto', \"Extraia a informação para o campo 'titulo': Tratamento com DMD\\nTexto: []\", \"Extraia a informação para o campo 'df_correspondente': coment_trat_dmd_treated\\nTexto: []\", \"Extraia a informação para o campo 'id_trat_dmd': (interno)\\nTexto: []\", \"Extraia a informação para o campo 'npac': (interno)\\nTexto: []\", \"Extraia a informação para o campo 'trat_dmd': Tratamento com Droga Modificadora da Doença (DMD) [options]\\nTexto: []\", \"Extraia a informação para o campo 'trat_dmd_descricao': Descrição do tratamento DMD [input text/number]\\nTexto: []\", \"Extraia a informação para o campo 'peso': Peso do paciente durante tratamento DMD [input text/number]\\nTexto: []\", \"Extraia a informação para o campo 'esq_natalizumabe': Esquema de Natalizumabe [options]\\nTexto: []\", \"Extraia a informação para o campo 'dt_dmd_indic': Data de indicação do tratamento DMD [date]\\nTexto: []\", \"Extraia a informação para o campo 'dt_dmd_ini': Data de início do tratamento DMD [date]\\nTexto: []\", \"Extraia a informação para o campo 'dt_dmd_fim': Data de término do tratamento DMD [date]\\nTexto: []\", \"Extraia a informação para o campo 'mot_interrup_dmd': Motivo de interrupção do tratamento DMD [options]\\nTexto: []\", \"Extraia a informação para o campo 'coment_trat_dmd': Comentários [input text/number]\\nTexto: []\"]\n",
      "[]\n",
      "[]\n",
      "['extraia e classifique as informações contidas no texto', \"Extraia a informação para o campo 'titulo': Vacinações\\nTexto: []\", \"Extraia a informação para o campo 'df_correspondente': coment_vacinas_reg_treated\\nTexto: []\", \"Extraia a informação para o campo 'id_vacinas_reg': (interno)\\nTexto: []\", \"Extraia a informação para o campo 'npac': (interno)\\nTexto: []\", \"Extraia a informação para o campo 'dt_vacinas_reg': Data da vacinação (*) [date]\\nTexto: []\", \"Extraia a informação para o campo 'tipo_vacina': Tipo de vacina [options]\\nTexto: []\", \"Extraia a informação para o campo 'tipo_vacina_obs': Observações sobre o tipo de vacina [input text/number]\\nTexto: []\", \"Extraia a informação para o campo 'coment_vacinas_reg': Comentários [input text/number]\\nTexto: []\"]\n",
      "[]\n"
     ]
    }
   ],
   "source": [
    "def extrair_informacao_react_(id_paciente, temp_tab, df_list):\n",
    "    for i in df_list:\n",
    "        size=1\n",
    "        temp_df = i[i['npac'] == id_paciente]\n",
    "        if temp_df.columns[-1] == temp_tab['df_correspondente']:\n",
    "            temp_df = i[i['npac'] == id_paciente]\n",
    "            size = len(temp_df)\n",
    "            break\n",
    "\n",
    "    for i in df_list: # para cada Dataframe\n",
    "        temp_df = i[i['npac'] == id_paciente]\n",
    "        passos = []\n",
    "\n",
    "        if temp_df.empty:\n",
    "            continue\n",
    "\n",
    "        for _ in range(size):\n",
    "            passos.append(f\"extraia e classifique as informações contidas no texto\")\n",
    "\n",
    "            # Adiciona um novo passo para cada chave do dicionário i\n",
    "            for chave in temp_tab.keys():\n",
    "                passos.append(f\"Extraia a informação para o campo '{chave}': {temp_tab[chave]}\\nTexto: {temp_df[temp_df.columns[-1]].to_string(index=False)}\")\n",
    "    print(passos)\n",
    "    # TODO: Finaliza a implementação\n",
    "\n",
    "    return None\n",
    "\n",
    "def exrair_informacao_react(id_paciente, df_list, dict_tabela):\n",
    "    respostas = {}\n",
    "    \n",
    "    for i in dict_tabela: # para cada tabela\n",
    "        temp_tab = dict_tabela[i]\n",
    "        respostas[temp_tab['titulo']] = {}\n",
    "        temp_resp = extrair_informacao_react_(id_paciente, temp_tab, df_list)\n",
    "        respostas[temp_tab['titulo']] = temp_resp # temp_resp é uma lista de dicionarios\n",
    "\n",
    "    return respostas\n",
    "\n",
    "# df_resultados\n",
    "temp = exrair_informacao_react(4162, df_list, dict_tabela)"
   ]
  }
 ],
 "metadata": {
  "kernelspec": {
   "display_name": "brando",
   "language": "python",
   "name": "python3"
  },
  "language_info": {
   "codemirror_mode": {
    "name": "ipython",
    "version": 3
   },
   "file_extension": ".py",
   "mimetype": "text/x-python",
   "name": "python",
   "nbconvert_exporter": "python",
   "pygments_lexer": "ipython3",
   "version": "3.11.9"
  }
 },
 "nbformat": 4,
 "nbformat_minor": 2
}
